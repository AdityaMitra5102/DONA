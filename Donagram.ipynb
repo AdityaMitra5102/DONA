{
 "cells": [
  {
   "cell_type": "code",
   "execution_count": null,
   "metadata": {},
   "outputs": [],
   "source": [
    "import requests\n",
    "import time\n",
    "import torch\n",
    "import torch.nn as nn\n",
    "import torch.optim as optim\n",
    "import torchvision.transforms as transforms\n",
    "from torchvision.datasets import MNIST #\n",
    "from torch.utils.data import DataLoader"
   ]
  },
  {
   "cell_type": "code",
   "execution_count": null,
   "metadata": {},
   "outputs": [],
   "source": [
    "last_update_id=None"
   ]
  },
  {
   "cell_type": "code",
   "execution_count": null,
   "metadata": {},
   "outputs": [],
   "source": [
    "def send_telegram_message(message):\n",
    "    TOKEN='' #\n",
    "    chat_id='' #\n",
    "    url=f\"https://api.telegram.org/bot{TOKEN}/sendMessage?chat_id={chat_id}&text={message}\"\n",
    "    response=requests.get(url)\n",
    "    print(f\"Sent message: {message}, Response: {response.json()}\") "
   ]
  },
  {
   "cell_type": "code",
   "execution_count": null,
   "metadata": {},
   "outputs": [],
   "source": [
    "def request_next_command():\n",
    "    send_telegram_message(\"Please enter the next command (rerun, stop):\")\n",
    "    command=get_last_command(30) \n",
    "    while command not in [\"rerun\",\"stop\"]:\n",
    "        if command:send_telegram_message(\"Invalid command. Please enter 'rerun' to rerun or 'stop' to stop training.\")\n",
    "        command=get_last_command(30)  \n",
    "    return command"
   ]
  },
  {
   "cell_type": "code",
   "execution_count": null,
   "metadata": {},
   "outputs": [],
   "source": [
    "def get_last_command(timeout=30):\n",
    "    global last_update_id\n",
    "    TOKEN ='' #\n",
    "    url=f\"https://api.telegram.org/bot{TOKEN}/getUpdates\"\n",
    "    start_time = time.time()\n",
    "    print(\"Waiting for command...\")\n",
    "    while time.time()-start_time < timeout:\n",
    "        response = requests.get(url).json()\n",
    "        print(f\"Checking for updates, Response: {response}\") \n",
    "        try:\n",
    "            updates = response['result']\n",
    "            if updates:\n",
    "                for update in reversed(updates):\n",
    "                    update_id = update['update_id']\n",
    "                    if 'message' in update and (last_update_id is None or update_id > last_update_id):\n",
    "                        last_update_id = update_id\n",
    "                        command = update['message']['text'].lower()\n",
    "                        print(f\"Received command: {command}\")\n",
    "                        return command\n",
    "        except (IndexError, KeyError) as e:\n",
    "            print(f\"Error while processing updates: {e}\") \n",
    "        time.sleep(1)  \n",
    "    return \"\""
   ]
  },
  {
   "cell_type": "code",
   "execution_count": null,
   "metadata": {},
   "outputs": [],
   "source": [
    "#replace this with your model code\n",
    "class SimpleNet(nn.Module):\n",
    "    def __init__(self):\n",
    "        super(SimpleNet, self).__init__()\n",
    "        self.flatten = nn.Flatten()\n",
    "        self.linear_relu_stack = nn.Sequential(nn.Linear(28*28, 512),nn.ReLU(),nn.Linear(512, 10))\n",
    "    def forward(self, x):\n",
    "        x = self.flatten(x)\n",
    "        return self.linear_relu_stack(x)\n",
    "\n",
    "transform=transforms.Compose([transforms.ToTensor(),transforms.Normalize((0.5,), (0.5,))])\n",
    "train_dataset= MNIST(root='./data', train=True, transform=transform, download=True)\n",
    "train_loader= DataLoader(dataset=train_dataset, batch_size=64, shuffle=True)\n",
    "model =SimpleNet()\n",
    "criterion= nn.CrossEntropyLoss()\n",
    "optimizer=optim.Adam(model.parameters(), lr=0.001)\n",
    "\n",
    "def train_model(num_epochs,train_loader,model,criterion,optimizer):\n",
    "    model.train()\n",
    "    for epoch in range(num_epochs):\n",
    "        for _, (data,targets) in enumerate(train_loader):\n",
    "            outputs= model(data)\n",
    "            loss=criterion(outputs, targets)\n",
    "            optimizer.zero_grad()\n",
    "            loss.backward()\n",
    "            optimizer.step()\n",
    "        print(f'Epoch {epoch+1}, Loss: {loss.item()}')\n",
    "    return loss.item()\n",
    "\n"
   ]
  },
  {
   "cell_type": "code",
   "execution_count": null,
   "metadata": {},
   "outputs": [],
   "source": [
    "#bot log\n",
    "while True:\n",
    "    send_telegram_message(\"Model training has started.\")\n",
    "    final_loss=train_model(1,train_loader,model,criterion,optimizer)\n",
    "    send_telegram_message(f\"Training complete. Final loss: {final_loss:.4f}\")\n",
    "    command=request_next_command()\n",
    "    if command==\"stop\":\n",
    "        send_telegram_message(\"Training stopped by user command.\")\n",
    "        break\n",
    "    elif command==\"rerun\":\n",
    "        send_telegram_message(\"Rerunning the training.\")\n",
    "        continue"
   ]
  }
 ],
 "metadata": {
  "language_info": {
   "name": "python"
  }
 },
 "nbformat": 4,
 "nbformat_minor": 2
}
